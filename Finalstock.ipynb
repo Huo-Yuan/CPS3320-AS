{
 "cells": [
  {
   "cell_type": "code",
   "execution_count": 1,
   "id": "c2ae20a3",
   "metadata": {},
   "outputs": [],
   "source": [
    "import math\n",
    "\n",
    "import pandas as pd\n",
    "import numpy as np\n",
    "import re\n",
    "import matplotlib.pyplot as plt\n",
    "from sklearn import preprocessing\n",
    "from sklearn.linear_model import LinearRegression\n",
    "from sklearn.model_selection import train_test_split\n",
    "from datetime import datetime as dt\n",
    "from sklearn.metrics import mean_squared_error\n",
    "from math import sqrt\n",
    "from sklearn.metrics import mean_absolute_error as mae\n",
    "\n",
    "from sklearn.ensemble import RandomForestRegressor"
   ]
  },
  {
   "cell_type": "code",
   "execution_count": 2,
   "id": "d34c95ec",
   "metadata": {},
   "outputs": [
    {
     "name": "stderr",
     "output_type": "stream",
     "text": [
      "C:\\Users\\user\\AppData\\Local\\Temp/ipykernel_1556/2298950263.py:12: DataConversionWarning: A column-vector y was passed when a 1d array was expected. Please change the shape of y to (n_samples,), for example using ravel().\n",
      "  regressor.fit(x_train, y_train)\n"
     ]
    }
   ],
   "source": [
    "result3 = pd.read_csv(r\"C:\\Users\\user\\Desktop\\Finalstock2.csv\")\n",
    "\n",
    "x = result3[['Sumscore']].values\n",
    "y = result3[['Open']].values\n",
    "\n",
    "x_train, x_test, y_train, y_test = train_test_split(x, y, test_size=0.2, random_state=7)\n",
    "\n",
    "\n",
    "\n",
    "\n",
    "regressor = RandomForestRegressor(n_estimators=10, random_state=0)\n",
    "regressor.fit(x_train, y_train)\n",
    "\n",
    "y_pred_train = regressor.predict(x_train)\n",
    "y_pred_test = regressor.predict(x_test)\n",
    "\n",
    "y_pred_train= pd.DataFrame(y_pred_train)\n",
    "y_train= pd.DataFrame(y_train)\n",
    "result = pd.concat([y_pred_train,y_train], axis=1)\n",
    "\n",
    "result.to_csv(r'C:\\Users\\user\\Desktop\\y_pred_train.csv',index=False)"
   ]
  },
  {
   "cell_type": "code",
   "execution_count": 3,
   "id": "f99b2e05",
   "metadata": {},
   "outputs": [
    {
     "name": "stdout",
     "output_type": "stream",
     "text": [
      "RMSE= 78.05709526579271\n",
      "MSE= 6092.910121333038\n",
      "MAE= 56.46255516764704\n"
     ]
    }
   ],
   "source": [
    "\n",
    "\n",
    "rmse = sqrt(mean_squared_error(y_train, y_pred_train ))\n",
    "print('RMSE=',rmse)\n",
    "mse = mean_squared_error(y_train,y_pred_train )\n",
    "print('MSE=',mse)\n",
    "mae = mae(y_train, y_pred_train)\n",
    "print('MAE=',mae)"
   ]
  },
  {
   "cell_type": "code",
   "execution_count": 4,
   "id": "262ee292",
   "metadata": {},
   "outputs": [
    {
     "name": "stdout",
     "output_type": "stream",
     "text": [
      "           date  Sumscore         Open  Predict_Open\n",
      "0    2020-12-27   25.2119  3194.000000   3226.868994\n",
      "1    2020-12-28  148.7329  3309.939941   3280.731982\n",
      "2    2020-12-29   55.9023  3341.000000   3311.847022\n",
      "3    2020-12-30   33.0706  3275.000000   3284.720972\n",
      "4    2021-01-03    5.5419  3270.000000   3272.000000\n",
      "..          ...       ...          ...           ...\n",
      "250  2021-12-22   16.0902  3408.560059   3354.936035\n",
      "251  2021-12-26   12.2873  3420.739990   3400.591992\n",
      "252  2021-12-27    1.9120  3403.649902   3379.615918\n",
      "253  2021-12-28   23.6595  3416.800049   3340.200074\n",
      "254  2021-12-29   12.5531  3394.000000   3449.310010\n",
      "\n",
      "[255 rows x 4 columns]\n"
     ]
    }
   ],
   "source": [
    "\n",
    "predict_result = regressor.predict(x)\n",
    "result3=result3.loc[:,['date','Sumscore','Open']]\n",
    "\n",
    "predict_result = pd.DataFrame(predict_result )\n",
    "predict_result.columns=['Predict_Open']\n",
    "GRAPH = pd.concat([result3,predict_result], axis=1)\n",
    "print(GRAPH)\n",
    "GRAPH.to_csv(r'C:\\Users\\user\\Desktop\\GRAPH.csv', index=False)"
   ]
  },
  {
   "cell_type": "code",
   "execution_count": null,
   "id": "49fe560c",
   "metadata": {},
   "outputs": [],
   "source": []
  },
  {
   "cell_type": "code",
   "execution_count": null,
   "id": "9d4f01f1",
   "metadata": {},
   "outputs": [],
   "source": []
  }
 ],
 "metadata": {
  "kernelspec": {
   "display_name": "Python 3 (ipykernel)",
   "language": "python",
   "name": "python3"
  },
  "language_info": {
   "codemirror_mode": {
    "name": "ipython",
    "version": 3
   },
   "file_extension": ".py",
   "mimetype": "text/x-python",
   "name": "python",
   "nbconvert_exporter": "python",
   "pygments_lexer": "ipython3",
   "version": "3.9.7"
  }
 },
 "nbformat": 4,
 "nbformat_minor": 5
}
